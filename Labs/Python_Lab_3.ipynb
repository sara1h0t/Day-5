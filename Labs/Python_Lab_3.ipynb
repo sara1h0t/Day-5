{
 "cells": [
  {
   "cell_type": "markdown",
   "metadata": {},
   "source": [
    "# Python_Lab_3\n"
   ]
  },
  {
   "cell_type": "markdown",
   "metadata": {},
   "source": [
    "### Task 1\n",
    "- Write a function named **'create_student_records'** that takes a list of tuples. Each tuple contains a student's name and their scores in three subjects. The function should return a list of dictionaries, where each dictionary represents a student with keys: name, subject1, subject2, subject3. Use list comprehension to create the list of dictionaries."
   ]
  },
  {
   "cell_type": "code",
   "execution_count": 13,
   "metadata": {},
   "outputs": [
    {
     "data": {
      "text/plain": [
       "[{'name': 'Manar', 'subject1': 93, 'subject2': 97, 'subject3': 89},\n",
       " {'name': 'Reem', 'subject1': 78, 'subject2': 85, 'subject3': 82},\n",
       " {'name': 'Rahaf', 'subject1': 86, 'subject2': 90, 'subject3': 91}]"
      ]
     },
     "execution_count": 13,
     "metadata": {},
     "output_type": "execute_result"
    }
   ],
   "source": [
    "\n",
    "def create_student_records(students_scores):\n",
    "    student_records = []\n",
    "    for student in students_scores:  \n",
    "        record = {\n",
    "            'name': student[0],      \n",
    "            'subject1': student[1],  \n",
    "            'subject2': student[2],   \n",
    "            'subject3': student[3]    \n",
    "        }\n",
    "        student_records.append(record)  \n",
    "    return student_records  \n",
    "\n",
    "students_scores = [\n",
    "    ('Manar', 93, 97, 89),\n",
    "    ('Reem', 78, 85, 82),\n",
    "    ('Rahaf', 86, 90, 91)\n",
    "]\n",
    "\n",
    "student_records = create_student_records(students_scores)\n",
    "student_records"
   ]
  },
  {
   "cell_type": "markdown",
   "metadata": {},
   "source": [
    "### Task 2\n",
    "- Write a function named **'filter_and_sort_students'** that takes the list of dictionaries from Question 1 and returns a sorted list of student names who have an average score of 80 or more across all subjects. Sort the names in alphabetical order."
   ]
  },
  {
   "cell_type": "code",
   "execution_count": 14,
   "metadata": {},
   "outputs": [
    {
     "data": {
      "text/plain": [
       "['Manar', 'Rahaf', 'Reem']"
      ]
     },
     "execution_count": 14,
     "metadata": {},
     "output_type": "execute_result"
    }
   ],
   "source": [
    "def filter_and_sort_students(students_scores):\n",
    "    \n",
    "    qualifying_students = []\n",
    "\n",
    "    for student in students_scores:\n",
    "        average_score = (student['subject1'] + student['subject2'] + student['subject3']) / 3\n",
    "        if average_score >= 80:\n",
    "            qualifying_students.append(student['name']) \n",
    "            \n",
    "    qualifying_students.sort()\n",
    "    return qualifying_students\n",
    "\n",
    "sorted_students = filter_and_sort_students(student_records)\n",
    "sorted_students"
   ]
  },
  {
   "cell_type": "markdown",
   "metadata": {},
   "source": [
    "### Task 3\n",
    "- Write a function named **'get_product_info'** that prompts the user to enter information about a product. The function should ask for the product name, product price, and product quantity. If the user enters an invalid input (e.g., a non-numeric value for the price or quantity), the function should handle the error and prompt the user to enter the value again. Return a dictionary containing the product information."
   ]
  },
  {
   "cell_type": "code",
   "execution_count": 15,
   "metadata": {},
   "outputs": [
    {
     "name": "stdin",
     "output_type": "stream",
     "text": [
      "Enter the product name:  laptop\n",
      "Enter the product price:  4000\n",
      "Enter the product quantity:  1\n"
     ]
    },
    {
     "data": {
      "text/plain": [
       "{'name': 'laptop', 'price': 4000.0, 'quantity': 1}"
      ]
     },
     "execution_count": 15,
     "metadata": {},
     "output_type": "execute_result"
    }
   ],
   "source": [
    "def get_product_info():\n",
    "    product_info = {}\n",
    "\n",
    "    product_info['name'] = input(\"Enter the product name: \")\n",
    "\n",
    "    \n",
    "    while True:\n",
    "        try:\n",
    "            product_info['price'] = float(input(\"Enter the product price: \"))\n",
    "            break  \n",
    "        except ValueError:\n",
    "            print(\"Invalid input. Please enter a numeric value for the price.\")\n",
    "\n",
    "   \n",
    "    while True:\n",
    "        try:\n",
    "            product_info['quantity'] = int(input(\"Enter the product quantity: \"))\n",
    "            break  \n",
    "        except ValueError:\n",
    "            print(\"Invalid input. Please enter a numeric value for the quantity.\")\n",
    "    \n",
    "    return product_info\n",
    "product_data = get_product_info()\n",
    "product_data"
   ]
  },
  {
   "cell_type": "markdown",
   "metadata": {},
   "source": [
    "### Task 4\n",
    "- Write a function named **'get_even_numbers'** that takes a list of integers and returns a list of even numbers using list comprehension."
   ]
  },
  {
   "cell_type": "code",
   "execution_count": 37,
   "metadata": {},
   "outputs": [
    {
     "name": "stdout",
     "output_type": "stream",
     "text": [
      "[2, 4, 6, 8, 10, 12]\n"
     ]
    }
   ],
   "source": [
    "\n",
    "def get_even_numbers(lis_of_num):\n",
    "\n",
    "    even_list = [i for i in lis_of_num if i % 2 == 0]\n",
    "    return even_list\n",
    "\n",
    "num_list = [1, 2, 3, 4, 5, 6, 7, 8, 9, 10, 11, 12]\n",
    "\n",
    "print(get_even_numbers(num_list))\n"
   ]
  },
  {
   "cell_type": "markdown",
   "metadata": {},
   "source": [
    "### Task 5\n",
    "- Write a function named **'pair_elements'** that takes two lists of equal length as parameters and returns a list of tuples, where each tuple contains corresponding elements from the two lists. Use the zip function to achieve this."
   ]
  },
  {
   "cell_type": "markdown",
   "metadata": {},
   "source": []
  },
  {
   "cell_type": "code",
   "execution_count": 38,
   "metadata": {},
   "outputs": [
    {
     "data": {
      "text/plain": [
       "[(1, 'a'), (2, 'b'), (3, 'c')]"
      ]
     },
     "execution_count": 38,
     "metadata": {},
     "output_type": "execute_result"
    }
   ],
   "source": [
    "def pair_elements(list1, list2):\n",
    "    paired_list = list(zip(list1, list2))\n",
    "    return paired_list\n",
    "\n",
    "list1 = [1, 2, 3]\n",
    "list2 = ['a', 'b', 'c']\n",
    "\n",
    "paired_result = pair_elements(list1, list2)\n",
    "paired_result"
   ]
  },
  {
   "cell_type": "markdown",
   "metadata": {},
   "source": [
    "### Task 6\n",
    "- Write a function named **'square_dict_lambda'** that takes a list of integers and returns a dictionary where the keys are the integers and the values are their squares. Use a lambda function within a dictionary comprehension to achieve this."
   ]
  },
  {
   "cell_type": "code",
   "execution_count": 39,
   "metadata": {},
   "outputs": [
    {
     "data": {
      "text/plain": [
       "{1: 1, 2: 4, 3: 9, 4: 16, 5: 25}"
      ]
     },
     "execution_count": 39,
     "metadata": {},
     "output_type": "execute_result"
    }
   ],
   "source": [
    "def square_dict_lambda(int_list):\n",
    "\n",
    "    square_dict = {x: (lambda x: x**2)(x) for x in int_list}\n",
    "    return square_dict\n",
    "\n",
    "int_list = [1, 2, 3, 4, 5]\n",
    "\n",
    "square_dict_result = square_dict_lambda(int_list)\n",
    "square_dict_result"
   ]
  },
  {
   "cell_type": "code",
   "execution_count": null,
   "metadata": {},
   "outputs": [],
   "source": []
  }
 ],
 "metadata": {
  "kernelspec": {
   "display_name": "Python 3 (ipykernel)",
   "language": "python",
   "name": "python3"
  },
  "language_info": {
   "codemirror_mode": {
    "name": "ipython",
    "version": 3
   },
   "file_extension": ".py",
   "mimetype": "text/x-python",
   "name": "python",
   "nbconvert_exporter": "python",
   "pygments_lexer": "ipython3",
   "version": "3.12.4"
  }
 },
 "nbformat": 4,
 "nbformat_minor": 4
}
