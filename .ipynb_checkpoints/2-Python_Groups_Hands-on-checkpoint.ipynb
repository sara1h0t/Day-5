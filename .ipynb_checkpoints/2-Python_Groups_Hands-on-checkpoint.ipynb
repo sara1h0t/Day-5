{
 "cells": [
  {
   "cell_type": "markdown",
   "metadata": {
    "id": "kZXiW0-J0-2x"
   },
   "source": [
    "# Python_Groups_Hands-on\n"
   ]
  },
  {
   "cell_type": "markdown",
   "metadata": {
    "id": "I05A6_S80-2y"
   },
   "source": [
    "## Project: Library Management System\n",
    "### Description:\n",
    "- Develop a basic Library Management System (LMS) that allows users to manage book records, including adding, updating, deleting, and displaying book information. The system should also provide basic statistical analysis.\n",
    "\n",
    "### System requirements:\n",
    "\n",
    "#### Data Structure Design:\n",
    "\n",
    "  - Define data structures using lists, tuples, dictionaries, and sets to store book information (e.g., book ID, title, author, year, genres).\n",
    "\n",
    "#### Basic Operations:\n",
    "\n",
    "- Implement functions to add, update, delete, and display book records.\n",
    "- Ensure proper type conversion and validation of inputs.\n",
    "\n",
    "#### Statistical Analysis:\n",
    "\n",
    "- Write functions to calculate and display the total number of books, the average publication year, and the most common genre.\n",
    "- Use list comprehensions and built-in functions (sort, len, zip, range) for calculations.\n",
    "\n",
    "#### Advanced Features:\n",
    "\n",
    "- Implement search functionality to find books by title or author using lambda functions.\n",
    "- Provide sorting options for book records based on different criteria (e.g., title, year).\n",
    "\n",
    "\n",
    "#### Exception Handling:\n",
    "\n",
    "- Handle potential errors (e.g., invalid input) using try-except blocks."
   ]
  },
  {
   "cell_type": "markdown",
   "metadata": {
    "id": "rXuH9y0_D76o"
   },
   "source": [
    "#### Q1: Using the following table, create a function to add these books to your library:\n",
    "\n",
    "\n",
    "\n",
    "| Book ID | Title                            | Author               | Year | Genres                              |\n",
    "|---------|----------------------------------|----------------------|------|-------------------------------------|\n",
    "| 1       | Harry Potter and the Sorcerer's Stone | J.K. Rowling         | 1997 | Fantasy, Young Adult                |\n",
    "| 2       | To Kill a Mockingbird             | Harper Lee           | 1960 | Fiction, Classics                   |\n",
    "| 3       | The Great Gatsby                  | F. Scott Fitzgerald  | 1925 | Fiction, Classics                   |\n",
    "| 4       | 1984                              | George Orwell        | 1949 | Fiction, Dystopian                  |\n",
    "| 5       | The Catcher in the Rye            | J.D. Salinger        | 1951 | Fiction, Classics                   |\n",
    "| 6       | Pride and Prejudice               | Jane Austen          | 1813 | Fiction, Romance, Classics          |\n",
    "| 7       | The Hobbit                        | J.R.R. Tolkien       | 1937 | Fantasy, Adventure                  |\n",
    "| 8       | The Hunger Games                  | Suzanne Collins      | 2008 | Science Fiction, Dystopian, Young Adult |\n",
    "| 9       | The Da Vinci Code                 | Dan Brown            | 2003 | Mystery, Thriller                   |\n",
    "| 10      | The Chronicles of Narnia          | C.S. Lewis           | 1950 | Fantasy, Children's Literature      |\n",
    "| 11      | Gone with the Wind                | Margaret Mitchell    | 1936 | Historical Fiction, Romance         |\n",
    "| 12      | Sapiens: A Brief History of Humankind | Yuval Noah Harari   | 2011 | Nonfiction, History, Science        |\n",
    "| 13      | The Road                          | Cormac McCarthy      | 2006 | Fiction, Post-Apocalyptic           |\n",
    "| 14      | The Girl with the Dragon Tattoo   | Stieg Larsson        | 2005 | Mystery, Thriller                   |\n",
    "| 15      | The Alchemist                     | Paulo Coelho         | 1988 | Fiction, Inspirational              |\n"
   ]
  },
  {
   "cell_type": "code",
   "execution_count": 11,
   "metadata": {
    "id": "BzV_B_g20-2z"
   },
   "outputs": [
    {
     "name": "stdout",
     "output_type": "stream",
     "text": [
      "[{'id': 1, 'title': \"Harry Potter and the Sorcerer's Stone\", 'author': 'J.K. Rowling', 'year': 1997, 'genre': 'Fantasy, Young Adult'}, {'id': 2, 'title': 'To Kill a Mockingbird', 'author': 'Harper Lee', 'year': 1960, 'genre': 'Fiction, Classics'}, {'id': 3, 'title': 'The Great Gatsby', 'author': 'F. Scott Fitzgerald', 'year': 1925, 'genre': 'Fiction, Classics'}, {'id': 4, 'title': '1984', 'author': 'George Orwell', 'year': 1949, 'genre': 'Fiction, Dystopian'}, {'id': 5, 'title': 'The Catcher in the Rye', 'author': 'J.D. Salinger', 'year': 1951, 'genre': 'Fiction, Classics'}, {'id': 6, 'title': 'Pride and Prejudice', 'author': 'Jane Austen', 'year': 1813, 'genre': 'Fiction, Romance, Classics'}, {'id': 7, 'title': 'The Hobbit', 'author': 'J.R.R. Tolkien', 'year': 1937, 'genre': 'Fantasy, Adventure'}, {'id': 8, 'title': 'The Hunger Games', 'author': 'Suzanne Collins', 'year': 2008, 'genre': 'Science Fiction, Dystopian, Young Adult'}, {'id': 9, 'title': 'The Da Vinci Code', 'author': 'Dan Brown', 'year': 2003, 'genre': 'Mystery, Thriller'}, {'id': 10, 'title': 'The Chronicles of Narnia', 'author': 'C.S. Lewis', 'year': 1950, 'genre': \"Fantasy, Children's Literature\"}, {'id': 11, 'title': 'Gone with the Wind', 'author': 'Margaret Mitchell', 'year': 1936, 'genre': 'Historical Fiction, Romance'}, {'id': 12, 'title': 'Sapiens: A Brief History of Humankind', 'author': 'Yuval Noah Harari', 'year': 2011, 'genre': 'Nonfiction, History, Science'}, {'id': 13, 'title': 'The Road', 'author': 'Cormac McCarthy', 'year': 2006, 'genre': 'Fiction, Post-Apocalyptic'}, {'id': 14, 'title': 'The Girl with the Dragon Tattoo', 'author': 'Stieg Larsson', 'year': 2005, 'genre': 'Mystery, Thriller'}, {'id': 15, 'title': 'The Alchemist', 'author': 'Paulo Coelho', 'year': 1988, 'genre': 'Fiction, Inspirational'}]\n"
     ]
    }
   ],
   "source": [
    "lib_book = []\n",
    "def add_book(id , title , author, year, genre):\n",
    "\n",
    "    book = {\n",
    "        \"id\": id,\n",
    "        \"title\": title,\n",
    "        \"author\": author,\n",
    "        \"year\": year,\n",
    "        \"genre\": genre\n",
    "    }\n",
    "    \n",
    "    lib_book.append(book)\n",
    "    \n",
    "    \n",
    "add_book(1, \"Harry Potter and the Sorcerer's Stone\", \"J.K. Rowling\", 1997, \"Fantasy, Young Adult\")\n",
    "add_book(2, \"To Kill a Mockingbird\", \"Harper Lee\", 1960, \"Fiction, Classics\")\n",
    "add_book(3, \"The Great Gatsby\", \"F. Scott Fitzgerald\", 1925, \"Fiction, Classics\")\n",
    "add_book(4, \"1984\", \"George Orwell\", 1949, \"Fiction, Dystopian\")\n",
    "add_book(5, \"The Catcher in the Rye\", \"J.D. Salinger\", 1951, \"Fiction, Classics\")\n",
    "add_book(6, \"Pride and Prejudice\", \"Jane Austen\", 1813, \"Fiction, Romance, Classics\")\n",
    "add_book(7, \"The Hobbit\", \"J.R.R. Tolkien\", 1937, \"Fantasy, Adventure\")\n",
    "add_book(8, \"The Hunger Games\", \"Suzanne Collins\", 2008, \"Science Fiction, Dystopian, Young Adult\")\n",
    "add_book(9, \"The Da Vinci Code\", \"Dan Brown\", 2003, \"Mystery, Thriller\")\n",
    "add_book(10, \"The Chronicles of Narnia\", \"C.S. Lewis\", 1950, \"Fantasy, Children's Literature\")\n",
    "add_book(11, \"Gone with the Wind\", \"Margaret Mitchell\", 1936, \"Historical Fiction, Romance\")\n",
    "add_book(12, \"Sapiens: A Brief History of Humankind\", \"Yuval Noah Harari\", 2011, \"Nonfiction, History, Science\")\n",
    "add_book(13, \"The Road\", \"Cormac McCarthy\", 2006, \"Fiction, Post-Apocalyptic\")\n",
    "add_book(14, \"The Girl with the Dragon Tattoo\", \"Stieg Larsson\", 2005, \"Mystery, Thriller\")\n",
    "add_book(15, \"The Alchemist\", \"Paulo Coelho\", 1988, \"Fiction, Inspirational\")\n",
    "\n",
    "print(lib_book)"
   ]
  },
  {
   "cell_type": "markdown",
   "metadata": {
    "id": "kR5bvgOsF3oJ"
   },
   "source": [
    "#### Q2: Create a function that updates books exsisted in your library and test it.\n",
    "- **Note**: If the user entered wrong book ID it should print \"Book with ID 'num' does not exist."
   ]
  },
  {
   "cell_type": "code",
   "execution_count": 12,
   "metadata": {
    "id": "U60cFkbUUYmj"
   },
   "outputs": [
    {
     "name": "stdout",
     "output_type": "stream",
     "text": [
      "Edit for book id 15 is done\n",
      "{'id': 15, 'title': 'The Alchemist', 'author': 'Paulo Coelho', 'year': 1988, 'genre': 'Classics'}\n"
     ]
    }
   ],
   "source": [
    "def update_book(id ,key,value):\n",
    "        \n",
    "        c = 0 \n",
    "        while c < len(lib_book):\n",
    "            if lib_book[c][\"id\"] == id:\n",
    "                lib_book[c][key] = value\n",
    "                print(f\"Edit for book id {lib_book[c]['id']} is done\")\n",
    "                return\n",
    "            \n",
    "            c+=1\n",
    "        print(\"Book with ID number does not exist\")\n",
    "\n",
    "update_book( 15,\"genre\",\"Classics\")\n",
    "print(lib_book[14])"
   ]
  },
  {
   "cell_type": "markdown",
   "metadata": {
    "id": "ME3j_m-eLhyH"
   },
   "source": [
    "#### Q3: Create a function to delete books from your library and test it."
   ]
  },
  {
   "cell_type": "code",
   "execution_count": 5,
   "metadata": {
    "id": "JlGIx-gJUadK"
   },
   "outputs": [
    {
     "name": "stdout",
     "output_type": "stream",
     "text": [
      "[{'id': 2, 'title': 'To Kill a Mockingbird', 'author': 'Harper Lee', 'year': 1960, 'genre': 'Fiction, Classics'}, {'id': 3, 'title': 'The Great Gatsby', 'author': 'F. Scott Fitzgerald', 'year': 1925, 'genre': 'Fiction, Classics'}, {'id': 4, 'title': '1984', 'author': 'George Orwell', 'year': 1949, 'genre': 'Fiction, Dystopian'}, {'id': 5, 'title': 'The Catcher in the Rye', 'author': 'J.D. Salinger', 'year': 1951, 'genre': 'Fiction, Classics'}, {'id': 6, 'title': 'Pride and Prejudice', 'author': 'Jane Austen', 'year': 1813, 'genre': 'Fiction, Romance, Classics'}, {'id': 7, 'title': 'The Hobbit', 'author': 'J.R.R. Tolkien', 'year': 1937, 'genre': 'Fantasy, Adventure'}, {'id': 8, 'title': 'The Hunger Games', 'author': 'Suzanne Collins', 'year': 2008, 'genre': 'Science Fiction, Dystopian, Young Adult'}, {'id': 9, 'title': 'The Da Vinci Code', 'author': 'Dan Brown', 'year': 2003, 'genre': 'Mystery, Thriller'}, {'id': 10, 'title': 'The Chronicles of Narnia', 'author': 'C.S. Lewis', 'year': 1950, 'genre': \"Fantasy, Children's Literature\"}, {'id': 11, 'title': 'Gone with the Wind', 'author': 'Margaret Mitchell', 'year': 1936, 'genre': 'Historical Fiction, Romance'}, {'id': 12, 'title': 'Sapiens: A Brief History of Humankind', 'author': 'Yuval Noah Harari', 'year': 2011, 'genre': 'Nonfiction, History, Science'}, {'id': 13, 'title': 'The Road', 'author': 'Cormac McCarthy', 'year': 2006, 'genre': 'Fiction, Post-Apocalyptic'}, {'id': 14, 'title': 'The Girl with the Dragon Tattoo', 'author': 'Stieg Larsson', 'year': 2005, 'genre': 'Mystery, Thriller'}, {'id': 15, 'title': 'The Alchemist', 'author': 'Paulo Coelho', 'year': 1988, 'genre': 'Classics'}]\n"
     ]
    }
   ],
   "source": [
    "def delete_book(id):\n",
    "    c = 0 \n",
    "    while c < len(lib_book):\n",
    "        if lib_book[c][\"id\"] == id:\n",
    "            del lib_book[c]\n",
    "        else:\n",
    "            c+=1    \n",
    "delete_book(1)\n",
    "print(lib_book)\n",
    "            "
   ]
  },
  {
   "cell_type": "markdown",
   "metadata": {
    "id": "MIamnChwNgFr"
   },
   "source": [
    "#### Q4: Create a function that displays books information from your library and test it."
   ]
  },
  {
   "cell_type": "code",
   "execution_count": 13,
   "metadata": {
    "id": "xFNIK3YvUbz5"
   },
   "outputs": [
    {
     "name": "stdout",
     "output_type": "stream",
     "text": [
      "id: 1  |  Title: Harry Potter and the Sorcerer's Stone | Author: J.K. Rowling | Year: 1997 | Genre: Fantasy, Young Adult\n",
      "id: 2  |  Title: To Kill a Mockingbird | Author: Harper Lee | Year: 1960 | Genre: Fiction, Classics\n",
      "id: 3  |  Title: The Great Gatsby | Author: F. Scott Fitzgerald | Year: 1925 | Genre: Fiction, Classics\n",
      "id: 4  |  Title: 1984 | Author: George Orwell | Year: 1949 | Genre: Fiction, Dystopian\n",
      "id: 5  |  Title: The Catcher in the Rye | Author: J.D. Salinger | Year: 1951 | Genre: Fiction, Classics\n",
      "id: 6  |  Title: Pride and Prejudice | Author: Jane Austen | Year: 1813 | Genre: Fiction, Romance, Classics\n",
      "id: 7  |  Title: The Hobbit | Author: J.R.R. Tolkien | Year: 1937 | Genre: Fantasy, Adventure\n",
      "id: 8  |  Title: The Hunger Games | Author: Suzanne Collins | Year: 2008 | Genre: Science Fiction, Dystopian, Young Adult\n",
      "id: 9  |  Title: The Da Vinci Code | Author: Dan Brown | Year: 2003 | Genre: Mystery, Thriller\n",
      "id: 10  |  Title: The Chronicles of Narnia | Author: C.S. Lewis | Year: 1950 | Genre: Fantasy, Children's Literature\n",
      "id: 11  |  Title: Gone with the Wind | Author: Margaret Mitchell | Year: 1936 | Genre: Historical Fiction, Romance\n",
      "id: 12  |  Title: Sapiens: A Brief History of Humankind | Author: Yuval Noah Harari | Year: 2011 | Genre: Nonfiction, History, Science\n",
      "id: 13  |  Title: The Road | Author: Cormac McCarthy | Year: 2006 | Genre: Fiction, Post-Apocalyptic\n",
      "id: 14  |  Title: The Girl with the Dragon Tattoo | Author: Stieg Larsson | Year: 2005 | Genre: Mystery, Thriller\n",
      "id: 15  |  Title: The Alchemist | Author: Paulo Coelho | Year: 1988 | Genre: Classics\n"
     ]
    }
   ],
   "source": [
    "def display_book():\n",
    "         c = 0 \n",
    "         while c < len(lib_book):\n",
    "           print(f\"id: {lib_book[c]['id']}  |  Title: {lib_book[c]['title']} | Author: {lib_book[c]['author']} | Year: {lib_book[c]['year']} | Genre: {lib_book[c]['genre']}\") \n",
    "                \n",
    "           c+=1\n",
    "\n",
    "    \n",
    "\n",
    "display_book()"
   ]
  },
  {
   "cell_type": "markdown",
   "metadata": {
    "id": "OvfdKdBqNt22"
   },
   "source": [
    "#### Q5: Create functions to do the following: calculates and display the total number of books, the average publication year, and the most common genre. and test it."
   ]
  },
  {
   "cell_type": "code",
   "execution_count": 15,
   "metadata": {
    "id": "mWg5eHIWUcsU"
   },
   "outputs": [
    {
     "name": "stdout",
     "output_type": "stream",
     "text": [
      "Total number of books:  15\n",
      "The average number of years:  1962\n",
      "the most common genre:  Fiction 6\n"
     ]
    }
   ],
   "source": [
    "def stat():\n",
    "    \n",
    "    #index to increment\n",
    "    c = 0\n",
    "    \n",
    "    #total yeaars\n",
    "    years = 0 \n",
    "\n",
    "    #list of genre words\n",
    "    lst = []\n",
    "    while c < len(lib_book):\n",
    "        \n",
    "        years = years + lib_book[c][\"year\"]\n",
    "\n",
    "        lst.extend(lib_book[c][\"genre\"].split(\",\"))\n",
    "        \n",
    "        c+=1\n",
    "\n",
    "    \n",
    "    years = years / len(lib_book)   \n",
    "    \n",
    "    #list of duplication number of genre\n",
    "    m = []\n",
    "    for i in lst:\n",
    "        m.append(lst.count(i))\n",
    "    \n",
    "    #combine two list genre : number of duplication\n",
    "    z = dict(zip(lst,m))\n",
    "    \n",
    "    \n",
    "    print(\"Total number of books: \", c)\n",
    "    print(\"The average number of years: \", int(years))\n",
    "    print(\"the most common genre: \",max(z , key = z.get) , max(z.values()))\n",
    "    \n",
    "stat()"
   ]
  },
  {
   "cell_type": "markdown",
   "metadata": {
    "id": "IuVLtf7dQaUW"
   },
   "source": [
    "#### Q6: Create 2 functions to search for books by the title and the author from your library and test it."
   ]
  },
  {
   "cell_type": "code",
   "execution_count": 17,
   "metadata": {
    "id": "7LnwRJLCUe3p"
   },
   "outputs": [
    {
     "name": "stdout",
     "output_type": "stream",
     "text": [
      "[{'id': 2, 'title': 'To Kill a Mockingbird', 'author': 'Harper Lee', 'year': 1960, 'genre': 'Fiction, Classics'}]\n",
      "[{'id': 2, 'title': 'To Kill a Mockingbird', 'author': 'Harper Lee', 'year': 1960, 'genre': 'Fiction, Classics'}]\n"
     ]
    }
   ],
   "source": [
    "def book_title(title):\n",
    "    result = list(filter(lambda book: book['title'] == title, lib_book))\n",
    "    return result\n",
    "\n",
    "\n",
    "def book_author(author):\n",
    "       result = list(filter(lambda book: book['author'] == author, lib_book))\n",
    "       return result\n",
    "\n",
    "\n",
    "print(book_title(\"To Kill a Mockingbird\"))\n",
    "print(book_author(\"Harper Lee\"))"
   ]
  },
  {
   "cell_type": "markdown",
   "metadata": {
    "id": "fAu2ozKBQzJu"
   },
   "source": [
    "#### Q7: Create 2 functions to sort the books by the title and the year from your library and test it."
   ]
  },
  {
   "cell_type": "code",
   "execution_count": 18,
   "metadata": {
    "id": "X4PyuHTMUgHl"
   },
   "outputs": [
    {
     "name": "stdout",
     "output_type": "stream",
     "text": [
      "id: 4  |  Title: 1984 | Author: George Orwell | Year: 1949 | Genre: Fiction, Dystopian, \n",
      "id: 11  |  Title: Gone with the Wind | Author: Margaret Mitchell | Year: 1936 | Genre: Historical Fiction, Romance, \n",
      "id: 1  |  Title: Harry Potter and the Sorcerer's Stone | Author: J.K. Rowling | Year: 1997 | Genre: Fantasy, Young Adult, \n",
      "id: 6  |  Title: Pride and Prejudice | Author: Jane Austen | Year: 1813 | Genre: Fiction, Romance, Classics, \n",
      "id: 12  |  Title: Sapiens: A Brief History of Humankind | Author: Yuval Noah Harari | Year: 2011 | Genre: Nonfiction, History, Science, \n",
      "id: 15  |  Title: The Alchemist | Author: Paulo Coelho | Year: 1988 | Genre: Classics, \n",
      "id: 5  |  Title: The Catcher in the Rye | Author: J.D. Salinger | Year: 1951 | Genre: Fiction, Classics, \n",
      "id: 10  |  Title: The Chronicles of Narnia | Author: C.S. Lewis | Year: 1950 | Genre: Fantasy, Children's Literature, \n",
      "id: 9  |  Title: The Da Vinci Code | Author: Dan Brown | Year: 2003 | Genre: Mystery, Thriller, \n",
      "id: 14  |  Title: The Girl with the Dragon Tattoo | Author: Stieg Larsson | Year: 2005 | Genre: Mystery, Thriller, \n",
      "id: 3  |  Title: The Great Gatsby | Author: F. Scott Fitzgerald | Year: 1925 | Genre: Fiction, Classics, \n",
      "id: 7  |  Title: The Hobbit | Author: J.R.R. Tolkien | Year: 1937 | Genre: Fantasy, Adventure, \n",
      "id: 8  |  Title: The Hunger Games | Author: Suzanne Collins | Year: 2008 | Genre: Science Fiction, Dystopian, Young Adult, \n",
      "id: 13  |  Title: The Road | Author: Cormac McCarthy | Year: 2006 | Genre: Fiction, Post-Apocalyptic, \n",
      "id: 2  |  Title: To Kill a Mockingbird | Author: Harper Lee | Year: 1960 | Genre: Fiction, Classics, \n",
      "\n",
      "\n",
      "id: 6  |  Title: Pride and Prejudice | Author: Jane Austen | Year: 1813 | Genre: Fiction, Romance, Classics\n",
      "id: 3  |  Title: The Great Gatsby | Author: F. Scott Fitzgerald | Year: 1925 | Genre: Fiction, Classics\n",
      "id: 11  |  Title: Gone with the Wind | Author: Margaret Mitchell | Year: 1936 | Genre: Historical Fiction, Romance\n",
      "id: 7  |  Title: The Hobbit | Author: J.R.R. Tolkien | Year: 1937 | Genre: Fantasy, Adventure\n",
      "id: 4  |  Title: 1984 | Author: George Orwell | Year: 1949 | Genre: Fiction, Dystopian\n",
      "id: 10  |  Title: The Chronicles of Narnia | Author: C.S. Lewis | Year: 1950 | Genre: Fantasy, Children's Literature\n",
      "id: 5  |  Title: The Catcher in the Rye | Author: J.D. Salinger | Year: 1951 | Genre: Fiction, Classics\n",
      "id: 2  |  Title: To Kill a Mockingbird | Author: Harper Lee | Year: 1960 | Genre: Fiction, Classics\n",
      "id: 15  |  Title: The Alchemist | Author: Paulo Coelho | Year: 1988 | Genre: Classics\n",
      "id: 1  |  Title: Harry Potter and the Sorcerer's Stone | Author: J.K. Rowling | Year: 1997 | Genre: Fantasy, Young Adult\n",
      "id: 9  |  Title: The Da Vinci Code | Author: Dan Brown | Year: 2003 | Genre: Mystery, Thriller\n",
      "id: 14  |  Title: The Girl with the Dragon Tattoo | Author: Stieg Larsson | Year: 2005 | Genre: Mystery, Thriller\n",
      "id: 13  |  Title: The Road | Author: Cormac McCarthy | Year: 2006 | Genre: Fiction, Post-Apocalyptic\n",
      "id: 8  |  Title: The Hunger Games | Author: Suzanne Collins | Year: 2008 | Genre: Science Fiction, Dystopian, Young Adult\n",
      "id: 12  |  Title: Sapiens: A Brief History of Humankind | Author: Yuval Noah Harari | Year: 2011 | Genre: Nonfiction, History, Science\n"
     ]
    }
   ],
   "source": [
    "def sort_title():\n",
    "    srt_title = sorted(lib_book, key = lambda x : x[\"title\"] )\n",
    "    c = 0 \n",
    "    while c < len(srt_title):\n",
    "           print(f\"id: {srt_title[c]['id']}  |  Title: {srt_title[c]['title']} | Author: {srt_title[c]['author']} | Year: {srt_title[c]['year']} | Genre: {srt_title[c]['genre']}, \") \n",
    "                \n",
    "           c+=1\n",
    "    \n",
    "    print(\"\\n\")\n",
    "\n",
    "sort_title()\n",
    "\n",
    "def sort_year():\n",
    "     srt_year = sorted(lib_book, key = lambda x : x[\"year\"] )\n",
    "     c = 0 \n",
    "     while c < len(srt_year):\n",
    "           print(f\"id: {srt_year[c]['id']}  |  Title: {srt_year[c]['title']} | Author: {srt_year[c]['author']} | Year: {srt_year[c]['year']} | Genre: {srt_year[c]['genre']}\") \n",
    "                \n",
    "           c+=1\n",
    "    \n",
    "sort_year()"
   ]
  },
  {
   "cell_type": "markdown",
   "metadata": {
    "id": "KiaFO8rdiv4u"
   },
   "source": [
    "#### Q8: Create a function to bulk update genres of books using list comprehension. and test it."
   ]
  },
  {
   "cell_type": "code",
   "execution_count": 21,
   "metadata": {
    "id": "AbvXyE96UhVt"
   },
   "outputs": [
    {
     "name": "stdout",
     "output_type": "stream",
     "text": [
      "['Fantasy, Young Adult', 'Fiction, aaa', 'Fiction, aaa', 'Fiction, Dystopian', 'Fiction, aaa', 'Fiction, Romance, aaa', 'Fantasy, Adventure', 'Science Fiction, Dystopian, Young Adult', 'Mystery, Thriller', \"Fantasy, Children's Literature\", 'Historical Fiction, Romance', 'Nonfiction, History, Science', 'Fiction, Post-Apocalyptic', 'Mystery, Thriller', 'aaa']\n"
     ]
    }
   ],
   "source": [
    "def bulk_update_genre(value, new_value):\n",
    "    a = [i[\"genre\"].replace(value, new_value) for i in lib_book]\n",
    "    print(a)\n",
    "    \n",
    "bulk_update_genre(\"Classics\",\"aaa\")  "
   ]
  },
  {
   "cell_type": "markdown",
   "metadata": {
    "id": "ZWkmOUNgi6V_"
   },
   "source": [
    "#### Q9: Implement a function to generate a report summarizing the library's statistics, including the total number of books, the number of books by each author, the number of books in each genre, and the oldest and newest books. and test it."
   ]
  },
  {
   "cell_type": "code",
   "execution_count": 22,
   "metadata": {
    "id": "Okjlb9pTUloe"
   },
   "outputs": [
    {
     "name": "stdout",
     "output_type": "stream",
     "text": [
      "Number of books:  15 \n",
      "\n",
      "Auther number of books:  {'J.K. Rowling': 1, 'Harper Lee': 1, 'F. Scott Fitzgerald': 1, 'George Orwell': 1, 'J.D. Salinger': 1, 'Jane Austen': 1, 'J.R.R. Tolkien': 1, 'Suzanne Collins': 1, 'Dan Brown': 1, 'C.S. Lewis': 1, 'Margaret Mitchell': 1, 'Yuval Noah Harari': 1, 'Cormac McCarthy': 1, 'Stieg Larsson': 1, 'Paulo Coelho': 1} \n",
      "\n",
      "Genre number of books:  {'Fantasy': 3, ' Young Adult': 2, 'Fiction': 6, ' Classics': 4, ' Dystopian': 2, ' Romance': 2, ' Adventure': 1, 'Science Fiction': 1, 'Mystery': 2, ' Thriller': 2, \" Children's Literature\": 1, 'Historical Fiction': 1, 'Nonfiction': 1, ' History': 1, ' Science': 1, ' Post-Apocalyptic': 1, 'Classics': 1} \n",
      "\n",
      "oldest book:  Sapiens: A Brief History of Humankind 2011\n",
      "newest book:  Pride and Prejudice 1813\n"
     ]
    }
   ],
   "source": [
    "def report():\n",
    "      lst1 = []\n",
    "      lst2 = []\n",
    "      lst3 = []\n",
    "      lst4 = []\n",
    "      \n",
    "    \n",
    "      c = 0\n",
    "      while c < len(lib_book):\n",
    "\n",
    "        lst1.extend(lib_book[c][\"genre\"].split(\",\")) \n",
    "        lst2.append(lib_book[c][\"author\"])\n",
    "        lst3.append(lib_book[c][\"year\"])\n",
    "        lst4.append(lib_book[c][\"title\"])  \n",
    "          \n",
    "        c+=1\n",
    "\n",
    "    \n",
    "      a = []\n",
    "      for i in lst2:\n",
    "        a.append(lst2.count(i))\n",
    "\n",
    "\n",
    "        \n",
    "      m = []\n",
    "      for i in lst1:\n",
    "        m.append(lst1.count(i))\n",
    "    \n",
    "    \n",
    "      l = dict(zip(lst1,m))\n",
    "      z = dict(zip(lst2,a))\n",
    "      b = dict(zip(lst4, lst3))\n",
    "    \n",
    "    \n",
    "      print(\"Number of books: \",c, \"\\n\")\n",
    "      print(\"Auther number of books: \",z,\"\\n\")\n",
    "      print(\"Genre number of books: \",l, \"\\n\")\n",
    "      print(\"oldest book: \",max(b , key = b.get) , max(b.values()))\n",
    "      print(\"newest book: \",min(b , key = b.get) , min(b.values()))\n",
    "    \n",
    "   \n",
    "    \n",
    "\n",
    "report() "
   ]
  },
  {
   "cell_type": "code",
   "execution_count": null,
   "metadata": {},
   "outputs": [],
   "source": []
  }
 ],
 "metadata": {
  "colab": {
   "provenance": []
  },
  "kernelspec": {
   "display_name": "Python 3 (ipykernel)",
   "language": "python",
   "name": "python3"
  },
  "language_info": {
   "codemirror_mode": {
    "name": "ipython",
    "version": 3
   },
   "file_extension": ".py",
   "mimetype": "text/x-python",
   "name": "python",
   "nbconvert_exporter": "python",
   "pygments_lexer": "ipython3",
   "version": "3.12.4"
  }
 },
 "nbformat": 4,
 "nbformat_minor": 4
}
